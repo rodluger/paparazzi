{
 "cells": [
  {
   "cell_type": "markdown",
   "metadata": {},
   "source": [
    "# The polynomial basis\n",
    "\n",
    "In this notebook, we show how to compute the first several degrees of the polynomial basis using ``sympy``."
   ]
  },
  {
   "cell_type": "code",
   "execution_count": 1,
   "metadata": {},
   "outputs": [
    {
     "name": "stdout",
     "output_type": "stream",
     "text": [
      "Using sympy version 1.3\n",
      "\n"
     ]
    }
   ],
   "source": [
    "import numpy as np\n",
    "import sympy\n",
    "from sympy import *\n",
    "print(\"Using sympy version\", sympy.__version__)\n",
    "init_session(quiet=True)\n",
    "x, y, z = symbols(r'x y z')\n",
    "n = symbols(r'n', integer=True)"
   ]
  },
  {
   "cell_type": "code",
   "execution_count": 2,
   "metadata": {},
   "outputs": [],
   "source": [
    "L = floor(sqrt(n))"
   ]
  },
  {
   "cell_type": "code",
   "execution_count": 3,
   "metadata": {},
   "outputs": [],
   "source": [
    "D = (n - L ** 2) / 2"
   ]
  },
  {
   "cell_type": "code",
   "execution_count": 4,
   "metadata": {},
   "outputs": [],
   "source": [
    "i = floor(L - D)"
   ]
  },
  {
   "cell_type": "code",
   "execution_count": 5,
   "metadata": {},
   "outputs": [],
   "source": [
    "j = floor(D)"
   ]
  },
  {
   "cell_type": "code",
   "execution_count": 6,
   "metadata": {},
   "outputs": [],
   "source": [
    "k = ceiling(D) - floor(D)"
   ]
  },
  {
   "cell_type": "code",
   "execution_count": 7,
   "metadata": {},
   "outputs": [],
   "source": [
    "p = x ** i * y ** j * z ** k"
   ]
  },
  {
   "cell_type": "markdown",
   "metadata": {},
   "source": [
    "## Display the first 36 terms in the polynomial basis"
   ]
  },
  {
   "cell_type": "code",
   "execution_count": 8,
   "metadata": {},
   "outputs": [
    {
     "data": {
      "image/png": "[encoded data removed]",
      "text/latex": [
       "$$\\left [ 1\\right ]$$"
      ],
      "text/plain": [
       "[1]"
      ]
     },
     "metadata": {},
     "output_type": "display_data"
    },
    {
     "data": {
      "image/png": "[encoded data removed]",
      "text/latex": [
       "$$\\left [ x, \\quad z, \\quad y\\right ]$$"
      ],
      "text/plain": [
       "[x, z, y]"
      ]
     },
     "metadata": {},
     "output_type": "display_data"
    },
    {
     "data": {
      "image/png": "[encoded data removed]",
      "text/latex": [
       "$$\\left [ x^{2}, \\quad x z, \\quad x y, \\quad y z, \\quad y^{2}\\right ]$$"
      ],
      "text/plain": [
       "⎡ 2                  2⎤\n",
       "⎣x , x⋅z, x⋅y, y⋅z, y ⎦"
      ]
     },
     "metadata": {},
     "output_type": "display_data"
    },
    {
     "data": {
      "image/png": "[encoded data removed]",
      "text/latex": [
       "$$\\left [ x^{3}, \\quad x^{2} z, \\quad x^{2} y, \\quad x y z, \\quad x y^{2}, \\quad y^{2} z, \\quad y^{3}\\right ]$$"
      ],
      "text/plain": [
       "⎡ 3   2     2              2   2     3⎤\n",
       "⎣x , x ⋅z, x ⋅y, x⋅y⋅z, x⋅y , y ⋅z, y ⎦"
      ]
     },
     "metadata": {},
     "output_type": "display_data"
    },
    {
     "data": {
      "image/png": "[encoded data removed]",
      "text/latex": [
       "$$\\left [ x^{4}, \\quad x^{3} z, \\quad x^{3} y, \\quad x^{2} y z, \\quad x^{2} y^{2}, \\quad x y^{2} z, \\quad x y^{3}, \\quad y^{3} z, \\quad y^{4}\\right ]$$"
      ],
      "text/plain": [
       "⎡ 4   3     3     2       2  2     2       3   3     4⎤\n",
       "⎣x , x ⋅z, x ⋅y, x ⋅y⋅z, x ⋅y , x⋅y ⋅z, x⋅y , y ⋅z, y ⎦"
      ]
     },
     "metadata": {},
     "output_type": "display_data"
    },
    {
     "data": {
      "image/png": "[encoded data removed]",
      "text/latex": [
       "$$\\left [ x^{5}, \\quad x^{4} z, \\quad x^{4} y, \\quad x^{3} y z, \\quad x^{3} y^{2}, \\quad x^{2} y^{2} z, \\quad x^{2} y^{3}, \\quad x y^{3} z, \\quad x y^{4}, \\quad y^{4} z, \\quad y^{5}\\right ]$$"
      ],
      "text/plain": [
       "⎡ 5   4     4     3       3  2   2  2     2  3     3       4   4     5⎤\n",
       "⎣x , x ⋅z, x ⋅y, x ⋅y⋅z, x ⋅y , x ⋅y ⋅z, x ⋅y , x⋅y ⋅z, x⋅y , y ⋅z, y ⎦"
      ]
     },
     "metadata": {},
     "output_type": "display_data"
    }
   ],
   "source": [
    "nn = 0\n",
    "for l in range(6):\n",
    "    row = []\n",
    "    for m in range(-l, l + 1):\n",
    "        row += [p.subs({n: nn})]\n",
    "        nn += 1\n",
    "    display(row)"
   ]
  }
 ],
 "metadata": {
  "kernelspec": {
   "display_name": "Python 3",
   "language": "python",
   "name": "python3"
  },
  "language_info": {
   "codemirror_mode": {
    "name": "ipython",
    "version": 3
   },
   "file_extension": ".py",
   "mimetype": "text/x-python",
   "name": "python",
   "nbconvert_exporter": "python",
   "pygments_lexer": "ipython3",
   "version": "3.7.2"
  }
 },
 "nbformat": 4,
 "nbformat_minor": 2
}
