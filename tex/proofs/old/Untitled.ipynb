{
 "cells": [
  {
   "cell_type": "code",
   "execution_count": 1,
   "metadata": {},
   "outputs": [
    {
     "name": "stdout",
     "output_type": "stream",
     "text": [
      "IPython console for SymPy 1.3 (Python 3.7.2-64-bit) (ground types: gmpy)\n",
      "\n",
      "These commands were executed:\n",
      ">>> from __future__ import division\n",
      ">>> from sympy import *\n",
      ">>> x, y, z, t = symbols('x y z t')\n",
      ">>> k, m, n = symbols('k m n', integer=True)\n",
      ">>> f, g, h = symbols('f g h', cls=Function)\n",
      ">>> init_printing()\n",
      "\n",
      "Documentation can be found at http://docs.sympy.org/1.3/\n",
      "\n"
     ]
    }
   ],
   "source": [
    "import sympy\n",
    "from sympy import *\n",
    "init_session()"
   ]
  },
  {
   "cell_type": "code",
   "execution_count": 4,
   "metadata": {},
   "outputs": [],
   "source": [
    "integrate?"
   ]
  },
  {
   "cell_type": "code",
   "execution_count": 8,
   "metadata": {},
   "outputs": [],
   "source": [
    "x, y = symbols('x y')\n",
    "n = symbols('n', integer=True)"
   ]
  },
  {
   "cell_type": "code",
   "execution_count": 15,
   "metadata": {},
   "outputs": [
    {
     "data": {
      "text/latex": [
       "$$\\frac{\\left(-1\\right)^{n} \\Gamma\\left(\\frac{n}{2} + \\frac{1}{2}\\right) {{}_{2}F_{1}\\left(\\begin{matrix} - \\frac{1}{2}, \\frac{n}{2} + \\frac{1}{2} \\\\ \\frac{n}{2} + \\frac{3}{2} \\end{matrix}\\middle| {1} \\right)}}{\\Gamma\\left(\\frac{n}{2} + \\frac{3}{2}\\right)} + \\frac{\\Gamma\\left(\\frac{n}{2} + \\frac{1}{2}\\right) {{}_{2}F_{1}\\left(\\begin{matrix} - \\frac{1}{2}, \\frac{n}{2} + \\frac{1}{2} \\\\ \\frac{n}{2} + \\frac{3}{2} \\end{matrix}\\middle| {1} \\right)}}{\\Gamma\\left(\\frac{n}{2} + \\frac{3}{2}\\right)}$$"
      ],
      "text/plain": [
       "                    ⎛      n   1 │  ⎞                 ⎛      n   1 │  ⎞\n",
       "                    ⎜-1/2, ─ + ─ │  ⎟                 ⎜-1/2, ─ + ─ │  ⎟\n",
       "    n  ⎛n   1⎞  ┌─  ⎜      2   2 │  ⎟    ⎛n   1⎞  ┌─  ⎜      2   2 │  ⎟\n",
       "(-1) ⋅Γ⎜─ + ─⎟⋅ ├─  ⎜            │ 1⎟   Γ⎜─ + ─⎟⋅ ├─  ⎜            │ 1⎟\n",
       "       ⎝2   2⎠ 2╵ 1 ⎜   n   3    │  ⎟    ⎝2   2⎠ 2╵ 1 ⎜   n   3    │  ⎟\n",
       "                    ⎜   ─ + ─    │  ⎟                 ⎜   ─ + ─    │  ⎟\n",
       "                    ⎝   2   2    │  ⎠                 ⎝   2   2    │  ⎠\n",
       "───────────────────────────────────── + ───────────────────────────────\n",
       "                ⎛n   3⎞                              ⎛n   3⎞           \n",
       "               Γ⎜─ + ─⎟                             Γ⎜─ + ─⎟           \n",
       "                ⎝2   2⎠                              ⎝2   2⎠           "
      ]
     },
     "execution_count": 15,
     "metadata": {},
     "output_type": "execute_result"
    }
   ],
   "source": [
    "integrate(2 * x**n * sqrt(1 - x ** 2), (x, -1, 1))"
   ]
  },
  {
   "cell_type": "code",
   "execution_count": 19,
   "metadata": {},
   "outputs": [
    {
     "data": {
      "image/png": "[encoded data removed]",
      "text/latex": [
       "$$\\pi$$"
      ],
      "text/plain": [
       "π"
      ]
     },
     "execution_count": 19,
     "metadata": {},
     "output_type": "execute_result"
    }
   ],
   "source": [
    "integrate(2 * sqrt(1 - x ** 2), (x, -1, 1))"
   ]
  },
  {
   "cell_type": "code",
   "execution_count": 16,
   "metadata": {},
   "outputs": [
    {
     "data": {
      "image/png": "[encoded data removed]",
      "text/latex": [
       "$$\\frac{\\pi}{4}$$"
      ],
      "text/plain": [
       "π\n",
       "─\n",
       "4"
      ]
     },
     "execution_count": 16,
     "metadata": {},
     "output_type": "execute_result"
    }
   ],
   "source": [
    "integrate(2 * x**2 * sqrt(1 - x ** 2), (x, -1, 1))"
   ]
  },
  {
   "cell_type": "code",
   "execution_count": 18,
   "metadata": {},
   "outputs": [
    {
     "data": {
      "image/png": "[encoded data removed]",
      "text/latex": [
       "$$\\frac{\\pi}{8}$$"
      ],
      "text/plain": [
       "π\n",
       "─\n",
       "8"
      ]
     },
     "execution_count": 18,
     "metadata": {},
     "output_type": "execute_result"
    }
   ],
   "source": [
    "integrate(2 * x**4 * sqrt(1 - x ** 2), (x, -1, 1))"
   ]
  },
  {
   "cell_type": "code",
   "execution_count": 20,
   "metadata": {},
   "outputs": [
    {
     "data": {
      "image/png": "[encoded data removed]",
      "text/latex": [
       "$$\\frac{5 \\pi}{64}$$"
      ],
      "text/plain": [
       "5⋅π\n",
       "───\n",
       " 64"
      ]
     },
     "execution_count": 20,
     "metadata": {},
     "output_type": "execute_result"
    }
   ],
   "source": [
    "integrate(2 * x**6 * sqrt(1 - x ** 2), (x, -1, 1))"
   ]
  },
  {
   "cell_type": "code",
   "execution_count": 21,
   "metadata": {},
   "outputs": [
    {
     "data": {
      "image/png": "[encoded data removed]",
      "text/latex": [
       "$$\\frac{7 \\pi}{128}$$"
      ],
      "text/plain": [
       "7⋅π\n",
       "───\n",
       "128"
      ]
     },
     "execution_count": 21,
     "metadata": {},
     "output_type": "execute_result"
    }
   ],
   "source": [
    "integrate(2 * x**8 * sqrt(1 - x ** 2), (x, -1, 1))"
   ]
  },
  {
   "cell_type": "code",
   "execution_count": 22,
   "metadata": {},
   "outputs": [
    {
     "data": {
      "image/png": "[encoded data removed]",
      "text/latex": [
       "$$\\frac{21 \\pi}{512}$$"
      ],
      "text/plain": [
       "21⋅π\n",
       "────\n",
       "512 "
      ]
     },
     "execution_count": 22,
     "metadata": {},
     "output_type": "execute_result"
    }
   ],
   "source": [
    "integrate(2 * x**10 * sqrt(1 - x ** 2), (x, -1, 1))"
   ]
  },
  {
   "cell_type": "code",
   "execution_count": null,
   "metadata": {},
   "outputs": [],
   "source": []
  }
 ],
 "metadata": {
  "kernelspec": {
   "display_name": "Python 3",
   "language": "python",
   "name": "python3"
  },
  "language_info": {
   "codemirror_mode": {
    "name": "ipython",
    "version": 3
   },
   "file_extension": ".py",
   "mimetype": "text/x-python",
   "name": "python",
   "nbconvert_exporter": "python",
   "pygments_lexer": "ipython3",
   "version": "3.7.2"
  }
 },
 "nbformat": 4,
 "nbformat_minor": 2
}
