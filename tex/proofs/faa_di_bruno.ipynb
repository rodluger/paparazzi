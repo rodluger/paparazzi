{
 "cells": [
  {
   "cell_type": "markdown",
   "metadata": {},
   "source": [
    "# Evaluating $\\frac{\\mathrm{d}^nI}{\\mathrm{d}\\beta^n}\\Big|_{\\beta=0}$"
   ]
  },
  {
   "cell_type": "code",
   "execution_count": 2,
   "metadata": {},
   "outputs": [
    {
     "name": "stdout",
     "output_type": "stream",
     "text": [
      "Using sympy version 1.3\n",
      "\n"
     ]
    }
   ],
   "source": [
    "import numpy as np\n",
    "import sympy\n",
    "from sympy import *\n",
    "print(\"Using sympy version\", sympy.__version__)\n",
    "init_session(quiet=True)\n",
    "I, I0, lam, lam0, beta, x = symbols(r'I I_0 \\lambda \\lambda_0 \\beta x')"
   ]
  },
  {
   "cell_type": "markdown",
   "metadata": {},
   "source": [
    "The intensity observed at a particular wavelength $\\lambda$ given a Doppler parameter $\\beta$ is simply\n",
    "\n",
    "$$\n",
    "\\begin{align}\n",
    "    I(\\lambda) = I_0(\\lambda_0)\n",
    "\\end{align}\n",
    "$$\n",
    "\n",
    "In other words, the intensity observed at the shifted wavelength $\\lambda$ is just the intensity originally emitted at the *unshifted* wavelength $\\lambda_0$. The non-relativistic Doppler shift is given by\n",
    "\n",
    "$$\n",
    "\\begin{align}\n",
    "    \\frac{\\lambda - \\lambda_0}{\\lambda_0} = \\beta\n",
    "\\end{align}\n",
    "$$\n",
    "\n",
    "or, solving, for $\\lambda_0$,\n",
    "\n",
    "$$\n",
    "\\begin{align}\n",
    "    \\lambda_0 = \\frac{\\lambda}{1 + \\beta}\n",
    "\\end{align}\n",
    "$$\n",
    "\n",
    "Our task is to differentiate the spectrum with respect to $\\beta$; specifically, we want the general expression for the $n^\\mathrm{th}$ derivative evaluated at $\\beta = 0$ so that we can Taylor expand $I$:\n",
    "\n",
    "$$\n",
    "\\begin{align}\n",
    "    \\frac{\\mathrm{d}^nI}{\\mathrm{d}\\beta^n} = \\frac{\\mathrm{d}^n}{\\mathrm{d}\\beta^n}\\Big( I_0 \\big(\\lambda_0(\\beta)\\big) \\Big)\n",
    "\\end{align}\n",
    "$$\n",
    "\n",
    "We can use the chain rule to take the first couple derivatives by hand, but to obtain the general expression, we will use [Faa di Bruno's formula](https://en.wikipedia.org/wiki/Fa%C3%A0_di_Bruno%27s_formula):\n",
    "\n",
    "$$\n",
    "\\begin{align}\n",
    "    \\frac{\\mathrm{d}^n}{\\mathrm{d}x^n} f(g(x)) = \\sum_{k=1}^n \\frac{\\mathrm{d}^k}{\\mathrm{d}g(x)^k}f(g(x))\\cdot B_{n,k}\\left(g'(x),g''(x),\\dots,g^{(n-k+1)}(x)\\right)\n",
    "\\end{align}\n",
    "$$\n",
    "\n",
    "where $B_{n,k}$ are the [incomplete Bell polynomials](https://en.wikipedia.org/wiki/Bell_polynomial)."
   ]
  },
  {
   "cell_type": "markdown",
   "metadata": {},
   "source": [
    "In our case, $f = I_0$, $g = \\lambda_0$, and $x = \\beta$. The derivatives $g^{(j)}(x) = \\frac{\\mathrm{d}^j \\lambda_0}{\\mathrm{d}\\beta^j}$ are easily obtained by repeatedly differentiating the expression for $\\lambda_0$ above:\n",
    "\n",
    "$$\n",
    "\\begin{align}\n",
    "    \\frac{\\mathrm{d} \\lambda_0}{\\mathrm{d}\\beta} &= -\\lambda(1 + \\beta)^{-2} \\\\\n",
    "    \\frac{\\mathrm{d}^2 \\lambda_0}{\\mathrm{d}\\beta^2} &= 2\\lambda(1 + \\beta)^{-3} \\\\\n",
    "    \\frac{\\mathrm{d}^3 \\lambda_0}{\\mathrm{d}\\beta^3} &= -6\\lambda(1 + \\beta)^{-4}\n",
    "\\end{align}\n",
    "$$\n",
    "The general case is\n",
    "$$\n",
    "\\begin{align}\n",
    "    \\frac{\\mathrm{d}^j \\lambda_0}{\\mathrm{d}\\beta^j} &= (-1)^j j! \\lambda(1 + \\beta)^{-j - 1}\n",
    "\\end{align}\n",
    "$$\n",
    "Evaluating at $\\beta = 0$, we have\n",
    "$$\n",
    "\\begin{align}\n",
    "    \\frac{\\mathrm{d}^j \\lambda_0}{\\mathrm{d}\\beta^j}\\Big|_{\\beta=0} &= (-1)^j j! \\lambda\n",
    "\\end{align}\n",
    "$$"
   ]
  },
  {
   "cell_type": "markdown",
   "metadata": {},
   "source": [
    "The Bell polynomial term $B_{n,k}\\left(...\\right)$ in Faa di Bruno's formula thus becomes\n",
    "$$\n",
    "\\begin{align}\n",
    "B_{n, k}\\Bigg( \\Big\\{(-1)^j j! \\lambda\\Big\\}_{j=1}^{n - k + 1} \\Bigg) \\\\\n",
    "&= \\lambda^k B_{n, k}\\Bigg( \\Big\\{(-1)^j j! \\Big\\}_{j=1}^{n - k + 1} \\Bigg) \\\\\n",
    "&\\equiv \\lambda^k P_{n,k}\n",
    "\\end{align}\n",
    "$$\n",
    "\n",
    "where $P_{n, k}$ may be computed as"
   ]
  },
  {
   "cell_type": "code",
   "execution_count": 8,
   "metadata": {},
   "outputs": [
    {
     "data": {
      "text/latex": [
       "$$\\left[\\begin{matrix}-1 & 0 & 0 & 0 & 0 & 0 & 0 & 0 & 0\\\\2 & 1 & 0 & 0 & 0 & 0 & 0 & 0 & 0\\\\-6 & -6 & -1 & 0 & 0 & 0 & 0 & 0 & 0\\\\24 & 36 & 12 & 1 & 0 & 0 & 0 & 0 & 0\\\\-120 & -240 & -120 & -20 & -1 & 0 & 0 & 0 & 0\\\\720 & 1800 & 1200 & 300 & 30 & 1 & 0 & 0 & 0\\\\-5040 & -15120 & -12600 & -4200 & -630 & -42 & -1 & 0 & 0\\\\40320 & 141120 & 141120 & 58800 & 11760 & 1176 & 56 & 1 & 0\\\\-362880 & -1451520 & -1693440 & -846720 & -211680 & -28224 & -2016 & -72 & -1\\end{matrix}\\right]$$"
      ],
      "text/plain": [
       "⎡  -1        0         0         0        0       0       0     0   0 ⎤\n",
       "⎢                                                                     ⎥\n",
       "⎢   2        1         0         0        0       0       0     0   0 ⎥\n",
       "⎢                                                                     ⎥\n",
       "⎢  -6        -6        -1        0        0       0       0     0   0 ⎥\n",
       "⎢                                                                     ⎥\n",
       "⎢  24        36        12        1        0       0       0     0   0 ⎥\n",
       "⎢                                                                     ⎥\n",
       "⎢ -120      -240      -120      -20      -1       0       0     0   0 ⎥\n",
       "⎢                                                                     ⎥\n",
       "⎢  720      1800      1200      300      30       1       0     0   0 ⎥\n",
       "⎢                                                                     ⎥\n",
       "⎢ -5040    -15120    -12600    -4200    -630     -42     -1     0   0 ⎥\n",
       "⎢                                                                     ⎥\n",
       "⎢ 40320    141120    141120    58800    11760    1176    56     1   0 ⎥\n",
       "⎢                                                                     ⎥\n",
       "⎣-362880  -1451520  -1693440  -846720  -211680  -28224  -2016  -72  -1⎦"
      ]
     },
     "execution_count": 8,
     "metadata": {},
     "output_type": "execute_result"
    }
   ],
   "source": [
    "def P(n, k):\n",
    "    \"\"\"\n",
    "    Return the incomplete Bell polynomial needed to compute\n",
    "    D/Dbeta.\n",
    "    \n",
    "    \"\"\"\n",
    "    if k > n:\n",
    "        return 0\n",
    "    series = [(-1) ** j * factorial(j) for j in range(1, n - k + 2)]\n",
    "    return bell(n, k, series)\n",
    "\n",
    "# Print the first several Pnks\n",
    "Matrix([[P(n, k) for k in range(1, 10)] for n in range(1, 10)]) "
   ]
  },
  {
   "cell_type": "markdown",
   "metadata": {},
   "source": [
    "The other term in Faa di Bruno's formula, $\\frac{\\mathrm{d}^k}{\\mathrm{d}g(x)^k}f(g(x))$, is the $k^\\mathrm{th}$ derivative of the spectrum $I_0$ with respect to the rest frame wavelength $\\lambda_0$, evaluated at $\\lambda_0 = \\lambda$. In an inference problem, these terms will have to either be learned from the data or computed using finite differences from the spectrum.\n",
    "\n",
    "Summarizing everything, we compute the required derivatives with respect to $\\beta$ as\n",
    "\n",
    "$$\n",
    "\\begin{align}\n",
    "    \\frac{\\mathrm{d}^n}{\\mathrm{d}\\beta^n} I_0(\\lambda_0)\\Big|_{\\beta=0} &= \\sum_{k=1}^n \\frac{\\mathrm{d}^k I_0(\\lambda_0)}{\\mathrm{d}\\lambda_0^k}\\Big|_{\\lambda_0=\\lambda} \\lambda^k P_{nk}\n",
    "\\end{align}\n",
    "$$\n",
    "\n",
    "where\n",
    "$$\n",
    "P_{nk} \\equiv B_{n, k}\\Bigg( \\Big\\{(-1)^j j! \\Big\\}_{j=1}^{n - k + 1} \\Bigg)\n",
    "$$\n",
    "\n",
    "and $B_{n, k}$ is the incomplete Bell polynomial. Note that the $P_{nk}$ are just integers that can easily be precomputed, as shown above."
   ]
  },
  {
   "cell_type": "code",
   "execution_count": 4,
   "metadata": {},
   "outputs": [],
   "source": [
    "def DDbeta(I, lam, n):\n",
    "    \"\"\"\n",
    "    Return the n^th derivative of I(lam) with respect to beta.\n",
    "    \n",
    "    \"\"\"\n",
    "    res = 0\n",
    "    for k in range(1, n + 1):\n",
    "        res += Derivative(I, lam, k) * lam ** k * P(n, k)\n",
    "    return res"
   ]
  },
  {
   "cell_type": "markdown",
   "metadata": {},
   "source": [
    "## The first few $\\beta$ derivatives\n",
    "\n",
    "Let's compute the first few derivatives as an example."
   ]
  },
  {
   "cell_type": "code",
   "execution_count": 5,
   "metadata": {},
   "outputs": [
    {
     "data": {
      "image/png": "[encoded data removed]",
      "text/latex": [
       "$$- \\lambda \\frac{d}{d \\lambda} I$$"
      ],
      "text/plain": [
       "            d       \n",
       "-\\lambda⋅────────(I)\n",
       "         d\\lambda   "
      ]
     },
     "execution_count": 5,
     "metadata": {},
     "output_type": "execute_result"
    }
   ],
   "source": [
    "DDbeta(I, lam, 1)"
   ]
  },
  {
   "cell_type": "code",
   "execution_count": 6,
   "metadata": {},
   "outputs": [
    {
     "data": {
      "image/png": "[encoded data removed]",
      "text/latex": [
       "$$\\lambda^{2} \\frac{d^{2}}{d \\lambda^{2}} I + 2 \\lambda \\frac{d}{d \\lambda} I$$"
      ],
      "text/plain": [
       "              2                              \n",
       "       2     d                       d       \n",
       "\\lambda ⋅─────────(I) + 2⋅\\lambda⋅────────(I)\n",
       "                 2                d\\lambda   \n",
       "         d\\lambda                            "
      ]
     },
     "execution_count": 6,
     "metadata": {},
     "output_type": "execute_result"
    }
   ],
   "source": [
    "DDbeta(I, lam, 2)"
   ]
  },
  {
   "cell_type": "code",
   "execution_count": 7,
   "metadata": {},
   "outputs": [
    {
     "data": {
      "image/png": "[encoded data removed]",
      "text/latex": [
       "$$- \\lambda^{3} \\frac{d^{3}}{d \\lambda^{3}} I - 6 \\lambda^{2} \\frac{d^{2}}{d \\lambda^{2}} I - 6 \\lambda \\frac{d}{d \\lambda} I$$"
      ],
      "text/plain": [
       "                3                         2                              \n",
       "         3     d                   2     d                       d       \n",
       "- \\lambda ⋅─────────(I) - 6⋅\\lambda ⋅─────────(I) - 6⋅\\lambda⋅────────(I)\n",
       "                   3                         2                d\\lambda   \n",
       "           d\\lambda                  d\\lambda                            "
      ]
     },
     "execution_count": 7,
     "metadata": {},
     "output_type": "execute_result"
    }
   ],
   "source": [
    "DDbeta(I, lam, 3)"
   ]
  },
  {
   "cell_type": "code",
   "execution_count": 8,
   "metadata": {},
   "outputs": [
    {
     "data": {
      "image/png": "[encoded data removed]",
      "text/latex": [
       "$$\\lambda^{4} \\frac{d^{4}}{d \\lambda^{4}} I + 12 \\lambda^{3} \\frac{d^{3}}{d \\lambda^{3}} I + 36 \\lambda^{2} \\frac{d^{2}}{d \\lambda^{2}} I + 24 \\lambda \\frac{d}{d \\lambda} I$$"
      ],
      "text/plain": [
       "              4                          3                          2         \n",
       "       4     d                    3     d                    2     d          \n",
       "\\lambda ⋅─────────(I) + 12⋅\\lambda ⋅─────────(I) + 36⋅\\lambda ⋅─────────(I) + \n",
       "                 4                          3                          2      \n",
       "         d\\lambda                   d\\lambda                   d\\lambda       \n",
       "\n",
       "                      \n",
       "              d       \n",
       "24⋅\\lambda⋅────────(I)\n",
       "           d\\lambda   \n",
       "                      "
      ]
     },
     "execution_count": 8,
     "metadata": {},
     "output_type": "execute_result"
    }
   ],
   "source": [
    "DDbeta(I, lam, 4)"
   ]
  },
  {
   "cell_type": "markdown",
   "metadata": {},
   "source": [
    "## Proof by direct differentiation\n",
    "\n",
    "We can use ``sympy`` to analytically differentiate a mock spectrum (given below by the equation $I(\\lambda_0) = \\sin(\\lambda_0)$ as a silly example) and compare to the expressions above up to the fifth order derivatives:"
   ]
  },
  {
   "cell_type": "code",
   "execution_count": 21,
   "metadata": {},
   "outputs": [],
   "source": [
    "# The wavelength at which the light was *emitted*\n",
    "lam0 = lam / (1 + beta)\n",
    "\n",
    "# A test spectrum\n",
    "I = sin(lam0)\n",
    "\n",
    "# Check the derivatives up to n=5\n",
    "for n in range(1, 6):\n",
    "    # Compute the derivative directly and evaluate it at beta = 0\n",
    "    expr1 = diff(I, beta, n).subs(beta, 0).expand()\n",
    "    \n",
    "    # Compute the derivative using Faa di Bruno's formula\n",
    "    expr2 = DDbeta(I, lam, n).doit().subs(beta, 0).expand()\n",
    "    \n",
    "    # Throw an AssertionError if they disagree\n",
    "    assert expr1 == expr2"
   ]
  },
  {
   "cell_type": "markdown",
   "metadata": {},
   "source": [
    "The expressions agree."
   ]
  }
 ],
 "metadata": {
  "kernelspec": {
   "display_name": "Python 3",
   "language": "python",
   "name": "python3"
  },
  "language_info": {
   "codemirror_mode": {
    "name": "ipython",
    "version": 3
   },
   "file_extension": ".py",
   "mimetype": "text/x-python",
   "name": "python",
   "nbconvert_exporter": "python",
   "pygments_lexer": "ipython3",
   "version": "3.7.2"
  }
 },
 "nbformat": 4,
 "nbformat_minor": 2
}
