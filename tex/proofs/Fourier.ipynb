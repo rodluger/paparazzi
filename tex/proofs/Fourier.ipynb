{
 "cells": [
  {
   "cell_type": "markdown",
   "metadata": {},
   "source": [
    "# Doppler shifts via Fourier Transforms"
   ]
  },
  {
   "cell_type": "code",
   "execution_count": 1,
   "metadata": {},
   "outputs": [],
   "source": [
    "%matplotlib inline"
   ]
  },
  {
   "cell_type": "code",
   "execution_count": null,
   "metadata": {},
   "outputs": [
    {
     "name": "stdout",
     "output_type": "stream",
     "text": [
      "Using sympy version 1.3\n",
      "\n"
     ]
    }
   ],
   "source": [
    "import matplotlib.pyplot as plt\n",
    "import numpy as np\n",
    "from scipy.integrate import dblquad\n",
    "import mpmath\n",
    "import sympy\n",
    "from sympy import *\n",
    "print(\"Using sympy version\", sympy.__version__)\n",
    "init_session(quiet=True)\n",
    "beta, x, k = symbols(r'\\beta_\\mathrm{eq} x k')"
   ]
  },
  {
   "cell_type": "markdown",
   "metadata": {},
   "source": [
    "In order to apply the Doppler shift and integrate over the visible disk of the star, we need to compute the integral\n",
    "\n",
    "$$\n",
    "\\begin{align}\n",
    "    \\hat{J}(k)\n",
    "    &=\n",
    "    \\int_{-1}^{1}\n",
    "        \\int_{-\\sqrt{1 - x^2}}^{\\sqrt{1 - x^2}}\n",
    "        % MAGIC\n",
    "        \\left( \n",
    "            1 - \\beta_\\mathrm{eq} x \n",
    "        \\right) ^ {2\\pi i k}\n",
    "        % MAGIC\n",
    "        \\mathrm{d}y\n",
    "        \\,\n",
    "        \\mathrm{d}x\n",
    "      \\\\ \n",
    "      &=\n",
    "      \\int_{-1}^{1}\n",
    "          2(1 - \\beta_\\mathrm{eq} x)^{2\\pi i k}\\sqrt{1 - x^2}\n",
    "      \\mathrm{d}x\n",
    "\\end{align}\n",
    "$$\n",
    "\n",
    "Let's try it with ``sympy``:"
   ]
  },
  {
   "cell_type": "code",
   "execution_count": null,
   "metadata": {},
   "outputs": [],
   "source": [
    "gamma = 2 * pi * k * I\n",
    "f = 2 * (1 - beta * x) ** gamma * sqrt(1 - x ** 2)\n",
    "integrate(f, (x, 0, 1))"
   ]
  },
  {
   "cell_type": "markdown",
   "metadata": {},
   "source": [
    "Unfortunately, it looks like ``sympy`` can't do this integral, but [Wolfram can](https://www.wolframalpha.com/input/?i=integrate+2+*+(1+-+beta+x)%5E%7B2+*+pi+*+k+*+i%7D+*+sqrt(1+-+x%5E2)+from+x+%3D+-1+to+x+%3D+1):\n",
    "\n",
    "$$\n",
    "\\begin{align}\n",
    "    \\hat{J}(k)\n",
    "    &=\n",
    "    \\pi \\, _{2}F_{1}\n",
    "        \\left(\n",
    "            -\\pi i k, \\, \n",
    "            \\frac{1}{2} - \\pi i k; \\,\n",
    "            2; \\,\n",
    "            \\beta_\\mathrm{eq}^2\n",
    "        \\right)\n",
    "\\end{align}\n",
    "$$"
   ]
  },
  {
   "cell_type": "markdown",
   "metadata": {},
   "source": [
    "## Let's implement this:"
   ]
  },
  {
   "cell_type": "code",
   "execution_count": null,
   "metadata": {},
   "outputs": [],
   "source": [
    "def _hyp2f1(a, b, c, z):\n",
    "    \"\"\"\n",
    "    The Hypergeometric function 2F1 for \n",
    "    complex-valued arguments.\n",
    "    \n",
    "    \"\"\"\n",
    "    res = mpmath.hyp2f1(a, b, c, z)\n",
    "    return float(res.real) + float(res.imag) * 1j\n",
    "\n",
    "# Vectorize it\n",
    "hyp2f1 = np.vectorize(_hyp2f1)"
   ]
  },
  {
   "cell_type": "code",
   "execution_count": null,
   "metadata": {},
   "outputs": [],
   "source": [
    "def I_num(xi, I0, alpha=0):\n",
    "    \"\"\"\n",
    "    Return the shifted spectrum, computed numerically.\n",
    "    \n",
    "    \"\"\"\n",
    "    xi0 = xi + alpha\n",
    "    return np.interp(xi0, xi, I0)"
   ]
  },
  {
   "cell_type": "code",
   "execution_count": null,
   "metadata": {},
   "outputs": [],
   "source": [
    "def S_num(xi, I0, alpha=0, npts=1000):\n",
    "    \"\"\"\n",
    "    Return the disk-integrated spectrum, computed numerically.\n",
    "    \n",
    "    \"\"\"\n",
    "    S = np.zeros_like(xi)\n",
    "    A = 0\n",
    "    beta = np.exp(alpha) - 1\n",
    "    for x in np.linspace(-1, 1, npts + 2)[1:-1]:\n",
    "        beta_x = beta * x\n",
    "        alpha_x = np.log(1 + beta_x)\n",
    "        S += I_num(xi, I0, alpha=alpha_x) * np.sqrt(1 - x ** 2)\n",
    "        A += np.sqrt(1 - x ** 2)\n",
    "    return np.pi * S / A"
   ]
  },
  {
   "cell_type": "code",
   "execution_count": null,
   "metadata": {},
   "outputs": [],
   "source": [
    "def I(xi, I0, alpha=0):\n",
    "    \"\"\"\n",
    "    Return the shifted spectrum, computed via an FFT.\n",
    "    \n",
    "    \"\"\"\n",
    "    # Number of wavelength bins\n",
    "    N = len(xi)\n",
    "    \n",
    "    # Take the FFT\n",
    "    fI0 = np.fft.rfft(I0)\n",
    "    k = np.fft.rfftfreq(N, xi[1] - xi[0])\n",
    "    \n",
    "    # Apply the translation\n",
    "    fI0 *= np.exp(2 * np.pi * alpha * 1j * k)\n",
    "    \n",
    "    # Take the inverse FFT and return\n",
    "    return np.fft.irfft(fI0, N)"
   ]
  },
  {
   "cell_type": "code",
   "execution_count": null,
   "metadata": {},
   "outputs": [],
   "source": [
    "def S(xi, I0, alpha=0, npts=1000):\n",
    "    \"\"\"\n",
    "    Return the disk-integrated spectrum, computed via an FFT.\n",
    "    \n",
    "    \"\"\"\n",
    "    # Number of wavelength bins\n",
    "    N = len(xi)\n",
    "    \n",
    "    # Take the FFT\n",
    "    fI0 = np.fft.rfft(I0)\n",
    "    k = np.fft.rfftfreq(N, xi[1] - xi[0])\n",
    "    \n",
    "    # Apply the integral of the translation    \n",
    "    fI0 *= np.pi * hyp2f1(-k * np.pi * 1j, 0.5 - k * np.pi * 1j, 2, beta ** 2)\n",
    "    \n",
    "    # Take the inverse FFT and return\n",
    "    return np.fft.irfft(fI0, N)"
   ]
  },
  {
   "cell_type": "markdown",
   "metadata": {},
   "source": [
    "## Plot the shifted spectrum"
   ]
  },
  {
   "cell_type": "code",
   "execution_count": null,
   "metadata": {
    "scrolled": false
   },
   "outputs": [],
   "source": [
    "# An evenly sampled timeseries in xi = log(wavelength)\n",
    "xi = np.linspace(-0.1, 0.1, 1000)\n",
    "lam = np.exp(xi)\n",
    "\n",
    "# A gaussian absorption line\n",
    "amp = 1.0\n",
    "mu = 1.0\n",
    "sigma = 0.01\n",
    "I0 = 1 - amp * np.exp(-0.5 * (lam - mu) ** 2 / sigma ** 2)\n",
    "\n",
    "# A moderate doppler shift\n",
    "beta = 0.05\n",
    "alpha = np.log(1 - beta)\n",
    "\n",
    "# Plot the shifted line\n",
    "plt.plot(lam, I0, 'k--', label=\"Rest frame\")\n",
    "plt.plot(lam, I_num(xi, I0, alpha=alpha), 'C0', label=\"Shifted (numerical)\")\n",
    "plt.plot(lam, I(xi, I0, alpha=alpha), 'C1--', label=\"Shifted (FFT)\")\n",
    "plt.legend(fontsize=10)\n",
    "plt.xlabel(\"wavelength\")\n",
    "plt.ylabel(\"intensity\");"
   ]
  },
  {
   "cell_type": "markdown",
   "metadata": {},
   "source": [
    "## Plot the disk-integrated spectrum"
   ]
  },
  {
   "cell_type": "code",
   "execution_count": null,
   "metadata": {
    "scrolled": false
   },
   "outputs": [],
   "source": [
    "plt.plot(lam, S_num(xi, I0, alpha=0), 'k--', label=\"Rest frame\");\n",
    "plt.plot(lam, S_num(xi, I0, alpha=alpha), 'C0', label=\"Disk-integrated (numerical)\");\n",
    "plt.plot(lam, S(xi, I0, alpha=alpha), 'C1--', label=\"Disk-integrated (FFT)\");\n",
    "plt.legend(fontsize=10)\n",
    "plt.xlabel(\"wavelength\")\n",
    "plt.ylabel(\"intensity\");"
   ]
  }
 ],
 "metadata": {
  "kernelspec": {
   "display_name": "Python 3",
   "language": "python",
   "name": "python3"
  },
  "language_info": {
   "codemirror_mode": {
    "name": "ipython",
    "version": 3
   },
   "file_extension": ".py",
   "mimetype": "text/x-python",
   "name": "python",
   "nbconvert_exporter": "python",
   "pygments_lexer": "ipython3",
   "version": "3.7.2"
  }
 },
 "nbformat": 4,
 "nbformat_minor": 2
}
